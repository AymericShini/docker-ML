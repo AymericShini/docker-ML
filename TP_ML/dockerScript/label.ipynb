{
  "nbformat": 4,
  "nbformat_minor": 0,
  "metadata": {
    "colab": {
      "name": "label.ipynb",
      "provenance": []
    },
    "kernelspec": {
      "name": "python3",
      "display_name": "Python 3"
    }
  },
  "cells": [
    {
      "cell_type": "code",
      "metadata": {
        "id": "wK44SEWTtKwn",
        "outputId": "9265bc9a-3523-41e3-fb29-67ecbcc0fb1b",
        "colab": {
          "base_uri": "https://localhost:8080/"
        }
      },
      "source": [
        "import sklearn\n",
        "import joblib\n",
        "\n",
        "from sklearn.pipeline import make_pipeline\n",
        "from sklearn.multiclass import OneVsRestClassifier\n",
        "from sklearn.feature_extraction.text import TfidfVectorizer\n",
        "\n",
        "datalabel = pd.read_csv(r\"/content/labels.csv\")\n",
        "df_dataLabel = datalabel.copy()\n",
        "\n",
        "!pip install stop-words\n",
        "from stop_words import get_stop_words\n",
        "\n",
        "df_dataLabel = df_dataLabel.drop(['Unnamed: 0'], axis= 1)\n",
        "df_dataLabel = df_dataLabel.dropna()\n",
        "\n",
        "clf = make_pipeline(\n",
        "    TfidfVectorizer(stop_words=get_stop_words('en')),\n",
        "    OneVsRestClassifier(SVC(kernel='linear', probability=True))\n",
        ")\n",
        "\n",
        "joblib.dump(clf, 'model.pkl')"
      ],
      "execution_count": 42,
      "outputs": [
        {
          "output_type": "stream",
          "text": [
            "Requirement already satisfied: stop-words in /usr/local/lib/python3.6/dist-packages (2018.7.23)\n"
          ],
          "name": "stdout"
        },
        {
          "output_type": "execute_result",
          "data": {
            "text/plain": [
              "['model.pkl']"
            ]
          },
          "metadata": {
            "tags": []
          },
          "execution_count": 42
        }
      ]
    }
  ]
}